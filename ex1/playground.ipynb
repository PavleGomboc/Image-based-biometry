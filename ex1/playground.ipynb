{
 "cells": [
  {
   "cell_type": "markdown",
   "metadata": {},
   "source": [
    "# Imports"
   ]
  },
  {
   "cell_type": "code",
   "execution_count": null,
   "metadata": {},
   "outputs": [],
   "source": [
    "# Standard library imports\n",
    "import glob\n",
    "\n",
    "# Local library imports\n",
    "from src import ImageUtils\n",
    "\n",
    "# Related 3rd party imports\n",
    "from matplotlib import pyplot as plt\n",
    "from scipy.spatial.distance import cdist\n",
    "from skimage import feature\n",
    "import seaborn\n",
    "import numpy as np\n",
    "import pandas as pd"
   ]
  },
  {
   "cell_type": "markdown",
   "metadata": {},
   "source": [
    "# Loading images"
   ]
  },
  {
   "cell_type": "code",
   "execution_count": null,
   "metadata": {},
   "outputs": [],
   "source": [
    "paths = glob.glob(\"/home/pavle/Desktop/Image based biometry/Image-based-biometry/ex1/awe/*/*.png\")\n",
    "images = ImageUtils.create_images_array(paths,(1280,720))"
   ]
  },
  {
   "cell_type": "code",
   "execution_count": null,
   "metadata": {},
   "outputs": [],
   "source": [
    "# print(images)"
   ]
  },
  {
   "cell_type": "code",
   "execution_count": null,
   "metadata": {},
   "outputs": [],
   "source": [
    "    # plt.imshow(images[2],\"gray\")\n",
    "    # plt.show()"
   ]
  },
  {
   "cell_type": "markdown",
   "metadata": {},
   "source": [
    "# Converting matrices to 1D vectors"
   ]
  },
  {
   "cell_type": "code",
   "execution_count": null,
   "metadata": {},
   "outputs": [],
   "source": [
    "d1_vectors = []\n",
    "for image in images:\n",
    "    d1_vector = ImageUtils.convert_to_1d_vector(image)\n",
    "    d1_vectors.append(d1_vector)\n",
    "\n",
    "# mat = np.vstack(d1_vectors)\n",
    "# mat.shape\n",
    "\n",
    "# res = np.zeros(mat.shape[0]*mat.shape[0])\n",
    "# c = 0\n",
    "# for i in range(mat.shape[0]):\n",
    "#     for j in range(mat.shape[0]):\n",
    "#         res[c] = np.sum(mat[i] - mat[j])\n",
    "#         c += 1\n"
   ]
  },
  {
   "cell_type": "code",
   "execution_count": null,
   "metadata": {},
   "outputs": [],
   "source": [
    "# counter = 0\n",
    "# images_comp = []\n",
    "# for vec in d1_vectors:\n",
    "#     if counter != len(d1_vectors):\n",
    "#         for y in range(counter+1, len(d1_vectors)):\n",
    "#             vec2 = d1_vectors[y]\n",
    "#             pixel_comparison=[]\n",
    "#             for x in range(0, len(vec)):\n",
    "#                 pixel_comparison.append(vec[x]-vec2[x])\n",
    "#             images_comp.append(sum(pixel_comparison))\n",
    "#     counter += 1\n",
    "\n",
    "# images_comp[0]"
   ]
  },
  {
   "cell_type": "markdown",
   "metadata": {},
   "source": [
    "# LBP, LBP + Histograms, uLBP (from scikit)"
   ]
  },
  {
   "cell_type": "code",
   "execution_count": null,
   "metadata": {},
   "outputs": [],
   "source": [
    "# test = ImageUtils.lbp_fe(images[93],radio=3)\n",
    "# print(test)\n",
    "# plt.imshow(test,\"gray\")\n",
    "# plt.show()"
   ]
  },
  {
   "cell_type": "code",
   "execution_count": null,
   "metadata": {},
   "outputs": [],
   "source": [
    "# ImageUtils.lbp_histograms(paths[92:93])"
   ]
  },
  {
   "cell_type": "code",
   "execution_count": null,
   "metadata": {},
   "outputs": [],
   "source": [
    "# ulbp = feature.local_binary_pattern(images[93], 3, 3, method=\"uniform\")\n",
    "# plt.imshow(ulbp,\"gray\")"
   ]
  },
  {
   "cell_type": "markdown",
   "metadata": {},
   "source": [
    "Compare all the computed feature vectors between them-\n",
    "selves (you get a triangular matrix of distances) separately\n",
    "\n",
    "for each type of feature extractor (pixel-by-pixel, LBP,\n",
    "uLBP etc.) and compute rank-1 recognition rate. \n",
    "\n",
    "You do that by getting the closest vector to the currently observed\n",
    "one and check whether it corresponds to the same class\n",
    "(correct) or not (incorrect).\n",
    "\n",
    "When you go through all the\n",
    "vectors and sum up predictions you get the percentage of\n",
    "rank-1 recognition rate"
   ]
  },
  {
   "cell_type": "code",
   "execution_count": null,
   "metadata": {},
   "outputs": [],
   "source": [
    "lbp_vectors_3 = []\n",
    "lbp_vectors_4 = []\n",
    "lbp_vectors_5 = []\n",
    "histograms = []\n",
    "ulbp_vectors_3_3= []\n",
    "ulbp_vectors_4_5 = []\n",
    "\n",
    "for image in images:\n",
    "    lbp_vectors_3.append(ImageUtils.lbp_fe(image,radio=3).flatten())\n",
    "    lbp_vectors_4.append(ImageUtils.lbp_fe(image,radio=4).flatten())\n",
    "    lbp_vectors_5.append(ImageUtils.lbp_fe(image,radio=5).flatten())\n",
    "    histograms.append(ImageUtils.lbp_histograms(image,(1280,720)).flatten())\n",
    "    ulbp_vectors_3_3.append(feature.local_binary_pattern(image, 3, 3, method=\"uniform\").flatten())\n",
    "    ulbp_vectors_4_5.append(feature.local_binary_pattern(image, 4, 5, method=\"uniform\").flatten())"
   ]
  },
  {
   "cell_type": "code",
   "execution_count": null,
   "metadata": {},
   "outputs": [],
   "source": [
    "\n",
    "# RANK-1 : You do\n",
    "# that by getting the closest vector to the currently observed\n",
    "# one and check whether it corresponds to the same class\n",
    "# (correct) or not (incorrect). When you go through all the\n",
    "# vectors and sum up predictions you get the percentage of\n",
    "# rank-1 recognition rate.\n",
    "\n",
    "def rank_1(vectors):\n",
    "    counter = 0\n",
    "    images_comp = []\n",
    "    for vec in vectors:\n",
    "        if counter != len(vectors):\n",
    "            for y in range(counter+1, len(vectors)):\n",
    "                vec2 = vectors[y]\n",
    "                dist = np.linalg.norm(vec - vec2)\n",
    "                images_comp.append(dist)\n",
    "        counter += 1\n",
    "\n",
    "    arr = np.array(images_comp)     \n",
    "    tri = np.zeros((1000, 1000))\n",
    "    tri[np.triu_indices(1000, 1)] = arr\n",
    "    df = pd.DataFrame(tri)\n",
    "    df.replace(0, np.nan, inplace=True) # To find the number the image that is the most similar, we convert 0s to Nans as otherwise image 1's most similar image is image 1. \n",
    "\n",
    "    y = 0\n",
    "    n = 0\n",
    "    for x in df.columns:\n",
    "        if (x-x%10)/10 == (df[x].argmin()-df[x].argmin()%10)/10:\n",
    "            y+= 1\n",
    "            # print(x, df2[x].argmin())\n",
    "        else:\n",
    "            n+= 1\n",
    "    return (y/n)* 100\n",
    "\n",
    " \n",
    "\n",
    "d1_rank1 = rank_1(d1_vectors)\n",
    "print(f\"Classification rate 1D:   {d1_rank1:.2f} %\")\n",
    "del d1_vectors\n",
    "\n",
    "lbp_vectors_3_rank1 = rank_1(lbp_vectors_3)\n",
    "print(f\"Classification rate LBP (R=3):  {lbp_vectors_3:.2f} %\")\n",
    "\n",
    "lbp_vectors_4_rank1 = rank_1(lbp_vectors_4)\n",
    "print(f\"Classification rate LBP (R=4):  {lbp_vectors_4:.2f} %\")\n",
    "\n",
    "lbp_vectors_5_rank1 = rank_1(lbp_vectors_5)\n",
    "print(f\"Classification rate LBP (R=5):  {lbp_vectors_5:.2f} %\")\n",
    "\n",
    "histograms_rank1 = rank_1(histograms)\n",
    "print(f\"Classification rate histograms: {histograms:.2f} %\")\n",
    "\n",
    "ulbp_vectors_3_3_rank1 = rank_1(ulbp_vectors_3_3)\n",
    "print(f\"Classification rate uLBP (N=3, R=3): {ulbp_vectors_3_3:.2f} %\")\n",
    "\n",
    "ulbp_vectors_4_5_rank1 = rank_1(ulbp_vectors_4_5)\n",
    "print(f\"Classification rate uLBP (N=4, R=5): {ulbp_vectors_4_5:.2f} %\")\n",
    "\n",
    "\n",
    "\n",
    "# Classification rate 1D:   5.60 %\n",
    "# Classification rate LBP (radio=3):  5.60 %\n",
    "# Classification rate LBP (radio=4):  6.27 %\n",
    "# Classification rate LBP (radio=5):  5.26 %\n",
    "# Classification rate LBP (radio=6):  2.35 %\n",
    "# Classification rate uLBP (N=3, radio=3): 8.58 %  # N = Number of circularly symmetric neighbour set points (quantization of the angular space).\n",
    "# Classification rate uLBP (N=4, radio=5): 6.95 %  # N = Number of circularly symmetric neighbour set points (quantization of the angular space)."
   ]
  },
  {
   "cell_type": "code",
   "execution_count": null,
   "metadata": {},
   "outputs": [],
   "source": [
    "# lbp_rank1 = rank_1(lbp_vectors_5)\n",
    "# print(f\"Classification rate LBP:  {lbp_rank1:.2f} %\")\n",
    "# del lbp_vectors_5\n",
    "\n",
    "# lbp_rank2 = rank_1(lbp_6)\n",
    "# print(f\"Classification rate LBP:  {lbp_rank2:.2f} %\")\n",
    "# del lbp_6\n",
    "\n",
    "# ulbp_rank1 = rank_1(ulbp_vectors)\n",
    "# print(f\"Classification rate uLBP: {ulbp_rank1:.2f} %\")\n",
    "# del ulbp_vectors"
   ]
  },
  {
   "cell_type": "code",
   "execution_count": null,
   "metadata": {},
   "outputs": [],
   "source": [
    "# print(f\"Classification rate 1D:   {d1_rank1:.2f} %\")\n",
    "# print(f\"Classification rate LBP:  {lbp_rank1:.2f} %\")\n",
    "# print(f\"Classification rate uLBP: {ulbp_rank1:.2f} %\")"
   ]
  },
  {
   "cell_type": "code",
   "execution_count": null,
   "metadata": {},
   "outputs": [],
   "source": [
    "# %matplotlib inline\n",
    "# plt.figure()\n",
    "# seaborn.heatmap(df.T)\n",
    "# plt.show()\n",
    "# plt.savefig('heatmap.jpg')"
   ]
  },
  {
   "cell_type": "code",
   "execution_count": null,
   "metadata": {},
   "outputs": [],
   "source": []
  }
 ],
 "metadata": {
  "kernelspec": {
   "display_name": "Python 3.11.0 ('biometry_ex1')",
   "language": "python",
   "name": "python3"
  },
  "language_info": {
   "codemirror_mode": {
    "name": "ipython",
    "version": 3
   },
   "file_extension": ".py",
   "mimetype": "text/x-python",
   "name": "python",
   "nbconvert_exporter": "python",
   "pygments_lexer": "ipython3",
   "version": "3.11.0"
  },
  "orig_nbformat": 4,
  "vscode": {
   "interpreter": {
    "hash": "ef6ed4a22f13680476c5667aac8862734b10fce27116bbbdf13a06f32982141c"
   }
  }
 },
 "nbformat": 4,
 "nbformat_minor": 2
}
